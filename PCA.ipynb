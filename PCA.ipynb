{
  "cells": [
    {
      "cell_type": "markdown",
      "metadata": {
        "id": "UQi5Gyr-e59I"
      },
      "source": [
        "# Метод главных компонент\n"
      ]
    },
    {
      "cell_type": "code",
      "execution_count": 34,
      "metadata": {
        "id": "yq5wK04He59K"
      },
      "outputs": [],
      "source": [
        "import numpy as np\n",
        "import pandas as pd\n",
        "import matplotlib\n",
        "from matplotlib import pyplot as plt\n",
        "import matplotlib.patches as mpatches\n",
        "matplotlib.style.use('ggplot')\n",
        "%matplotlib inline"
      ]
    },
    {
      "cell_type": "markdown",
      "metadata": {
        "id": "2fmdasqte59M"
      },
      "source": [
        "## Теория\n",
        "\n",
        "Любой набор данных представляет собой матрицу $X$.\n",
        "\n",
        "Метод главных компонент последовательно находит следующие линейные комбинации признаков (компоненты) из $X$:\n",
        "- каждая компонента ортогональна всем остальным и нормированна: $<w_i, w_j> = 0, \\quad ||w_i||=1$,\n",
        "- каждая компонента описывает максимально возможную дисперсию данных (с учётом предыдущего ограничения).\n",
        "\n",
        "Предположения, в рамках которых данный подход будет работать хорошо:\n",
        "- линейность компонент: мы предполагаем, что данные можно анализировать линейными методами,\n",
        "- большие дисперсии важны: предполагается, что наиболее важны те направления в данных, вдоль которых они имеют наибольшую дисперсию,\n",
        "- все компоненты ортогональны: это предположение позволяет проводить анализ главных компонент при помощи техник линейной алгебры (например, сингулярное разложение матрицы $X$ или спектральное разложение матрицы $X^TX$).\n",
        "\n",
        "Как это выглядит математически?\n",
        "\n",
        "Обозначим следующим образом выборочную матрицу ковариации данных: $\\hat{C} \\propto Q = X^TX$. ($Q$ отличается от $\\hat{C}$ нормировкой на число объектов).\n",
        "\n",
        "Сингулярное разложение матрицы $Q$ выглядит следующим образом:\n",
        "\n",
        "$Q = X^TX = W \\Lambda W^T$\n",
        "\n",
        "Можно строго показать, что столбцы матрицы $W$ являются главными компонентами матрицы $X$, т.е. комбинациями признаков, удовлетворяющих двум условиям, указанным в начале. При этом дисперсия данных вдоль направления, заданного каждой компонентой, равна соответствующему значению диагональной матрицы $\\Lambda$.\n",
        "\n",
        "Как же на основании этого преобразования производить уменьшение размерности? Мы можем отранжировать компоненты, используя значения дисперсий данных вдоль них.\n",
        "\n",
        "Сделаем это: $\\lambda_{(1)} > \\lambda_{(2)} > \\dots > \\lambda_{(D)}$.\n",
        "\n",
        "Тогда, если мы выберем компоненты, соответствующие первым $d$ дисперсиям из этого списка, мы получим набор из $d$ новых признаков, которые наилучшим образом описывают дисперсию изначального набора данных среди всех других возможных линейных комбинаций исходных признаков матрицы $X$. \n",
        "- Если $d=D$, то мы вообще не теряем никакой информации.\n",
        "- Если $d<D$, то мы теряем информацию, которая, при справедливости указанных выше предположений, будет пропорциональна сумме дисперсий отброшенных компонент.\n",
        "\n",
        "Получается, что метод главных компонент позволяет нам ранжировать полученные компоненты по \"значимости\", а также запустить процесс их отбора."
      ]
    },
    {
      "cell_type": "markdown",
      "metadata": {
        "id": "YUK0pd_Ke59P"
      },
      "source": [
        "## Пример\n",
        "\n",
        "Рассмотрим набор данных, который сэмплирован из многомерного нормального распределения с матрицей ковариации $C = \\begin{pmatrix} 3 & 1 \\\\ 1 & 2 \\end{pmatrix}$."
      ]
    },
    {
      "cell_type": "code",
      "execution_count": 35,
      "metadata": {
        "colab": {
          "base_uri": "https://localhost:8080/",
          "height": 282
        },
        "id": "YWudy13ie59Q",
        "outputId": "c525f480-5478-4741-bbd1-836187d2f273"
      },
      "outputs": [
        {
          "data": {
            "text/plain": [
              "<matplotlib.collections.PathCollection at 0x7fc8e033caf0>"
            ]
          },
          "execution_count": 35,
          "metadata": {},
          "output_type": "execute_result"
        },
        {
          "data": {
            "image/png": "[encoded data removed]",
            "text/plain": [
              "<Figure size 432x288 with 1 Axes>"
            ]
          },
          "metadata": {
            "needs_background": "light"
          },
          "output_type": "display_data"
        }
      ],
      "source": [
        "from sklearn.decomposition import PCA\n",
        "\n",
        "mu = np.zeros(2)\n",
        "C = np.array([[3,1],[1,2]])\n",
        "\n",
        "data = np.random.multivariate_normal(mu, C, size=50)\n",
        "plt.scatter(data[:,0], data[:,1])"
      ]
    },
    {
      "cell_type": "markdown",
      "metadata": {
        "id": "B97LR6zUe59S"
      },
      "source": [
        "Путём диагонализации истинной матрицы ковариаций $C$, мы можем найти преобразование исходного набора данных, компоненты которого наилучшим образом будут описывать дисперсию, с учётом их ортогональности друг другу:"
      ]
    },
    {
      "cell_type": "code",
      "execution_count": 36,
      "metadata": {
        "colab": {
          "base_uri": "https://localhost:8080/",
          "height": 265
        },
        "id": "AxRmNAJbe59T",
        "outputId": "62d04ab1-01fe-4aec-a547-5b12a3d38544"
      },
      "outputs": [
        {
          "data": {
            "image/png": "[encoded data removed]",
            "text/plain": [
              "<Figure size 432x288 with 1 Axes>"
            ]
          },
          "metadata": {
            "needs_background": "light"
          },
          "output_type": "display_data"
        }
      ],
      "source": [
        "\n",
        "v, W_true = np.linalg.eig(C)\n",
        "\n",
        "plt.scatter(data[:,0], data[:,1])\n",
        "# построим истинные компоненты, вдоль которых максимальна дисперсия данных\n",
        "plt.plot(data[:,0], (W_true[0,0]/W_true[0,1])*data[:,0], color=\"b\")\n",
        "plt.plot(data[:,0], (W_true[1,0]/W_true[1,1])*data[:,0], color=\"g\")\n",
        "g_patch = mpatches.Patch(color='g', label='True components')\n",
        "plt.legend(handles=[g_patch])\n",
        "plt.axis('equal')\n",
        "limits = [np.minimum(np.amin(data[:,0]), np.amin(data[:,1])),\n",
        "          np.maximum(np.amax(data[:,0]), np.amax(data[:,1]))]\n",
        "plt.xlim(limits[0],limits[1])\n",
        "plt.ylim(limits[0],limits[1])\n",
        "plt.draw()"
      ]
    },
    {
      "cell_type": "markdown",
      "metadata": {
        "id": "CP5XpFcQe59U"
      },
      "source": [
        "А теперь сравним эти направления с направлениями, которые выбирает метод главных компонент:"
      ]
    },
    {
      "cell_type": "code",
      "execution_count": 37,
      "metadata": {
        "id": "XhcypFOfe59V"
      },
      "outputs": [],
      "source": [
        "def plot_principal_components(data, model, scatter=True, legend=True):\n",
        "    W_pca = model.components_\n",
        "    if scatter:\n",
        "        plt.scatter(data[:,0], data[:,1])\n",
        "    plt.plot(data[:,0], -(W_pca[0,0]/W_pca[0,1])*data[:,0], color=\"c\")\n",
        "    plt.plot(data[:,0], -(W_pca[1,0]/W_pca[1,1])*data[:,0], color=\"c\")\n",
        "    if legend:\n",
        "        c_patch = mpatches.Patch(color='c', label='Principal components')\n",
        "        plt.legend(handles=[c_patch], loc='lower right')\n",
        "    # сделаем графики красивыми:\n",
        "    plt.axis('equal')\n",
        "    limits = [np.minimum(np.amin(data[:,0]), np.amin(data[:,1]))-0.5,\n",
        "              np.maximum(np.amax(data[:,0]), np.amax(data[:,1]))+0.5]\n",
        "    plt.xlim(limits[0],limits[1])\n",
        "    plt.ylim(limits[0],limits[1])\n",
        "    plt.draw()"
      ]
    },
    {
      "cell_type": "code",
      "execution_count": 38,
      "metadata": {
        "colab": {
          "base_uri": "https://localhost:8080/",
          "height": 265
        },
        "id": "09YhJOX2e59W",
        "outputId": "840608b4-728c-4601-d609-a159aab5b9ef"
      },
      "outputs": [
        {
          "data": {
            "image/png": "[encoded data removed]",
            "text/plain": [
              "<Figure size 432x288 with 1 Axes>"
            ]
          },
          "metadata": {
            "needs_background": "light"
          },
          "output_type": "display_data"
        }
      ],
      "source": [
        "model = PCA(n_components=2)\n",
        "model.fit(data)\n",
        "\n",
        "plt.scatter(data[:,0], data[:,1])\n",
        "# построим истинные компоненты, вдоль которых максимальна дисперсия данных\n",
        "plt.plot(data[:,0], (W_true[0,0]/W_true[0,1])*data[:,0], color=\"g\")\n",
        "plt.plot(data[:,0], (W_true[1,0]/W_true[1,1])*data[:,0], color=\"g\")\n",
        "# построим компоненты, полученные с использованием метода PCA:\n",
        "plot_principal_components(data, model, scatter=False, legend=False)\n",
        "c_patch = mpatches.Patch(color='c', label='Principal components')\n",
        "plt.legend(handles=[g_patch, c_patch])\n",
        "plt.draw()"
      ]
    },
    {
      "cell_type": "markdown",
      "metadata": {
        "id": "fnO-oEaQe59X"
      },
      "source": [
        "Видно, что уже при небольшом количестве данных они отличаются незначительно. Увеличим размер выборки:"
      ]
    },
    {
      "cell_type": "code",
      "execution_count": 39,
      "metadata": {
        "colab": {
          "base_uri": "https://localhost:8080/",
          "height": 265
        },
        "id": "u9YPQuNie59Y",
        "outputId": "2ebe9a72-c04a-4066-95d2-8d7673cf9ae7"
      },
      "outputs": [
        {
          "data": {
            "image/png": "[encoded data removed]",
            "text/plain": [
              "<Figure size 432x288 with 1 Axes>"
            ]
          },
          "metadata": {
            "needs_background": "light"
          },
          "output_type": "display_data"
        }
      ],
      "source": [
        "data_large = np.random.multivariate_normal(mu, C, size=5000)\n",
        "\n",
        "model = PCA(n_components=2)\n",
        "model.fit(data_large)\n",
        "plt.scatter(data_large[:,0], data_large[:,1], alpha=0.1)\n",
        "# построим истинные компоненты, вдоль которых максимальна дисперсия данных\n",
        "plt.plot(data_large[:,0], (W_true[0,0]/W_true[0,1])*data_large[:,0], color=\"g\")\n",
        "plt.plot(data_large[:,0], (W_true[1,0]/W_true[1,1])*data_large[:,0], color=\"g\")\n",
        "# построим компоненты, полученные с использованием метода PCA:\n",
        "plot_principal_components(data_large, model, scatter=False, legend=False)\n",
        "c_patch = mpatches.Patch(color='c', label='Principal components')\n",
        "plt.legend(handles=[g_patch, c_patch])\n",
        "plt.draw()"
      ]
    },
    {
      "cell_type": "markdown",
      "metadata": {
        "id": "Y2qDzvCse59Y"
      },
      "source": [
        "В этом случае главные компоненты значительно точнее приближают истинные направления данных, вдоль которых наблюдается наибольшая дисперсия."
      ]
    },
    {
      "cell_type": "markdown",
      "metadata": {
        "id": "imWcUr1_e59Z"
      },
      "source": [
        "## Статистический взгляд на модель\n",
        "\n",
        "Как формализовать предположения метода, указанные выше? При помощи вероятностной модели!\n",
        "\n",
        "Задача, стоящая за любым методом уменьшения размерности: получить из набора зашумлённых признаков $X$ истинные значения $Y$, которые на самом деле определяют набор данных (т.е. сведение датасета с большим количеством признаков к данным, имеющим т.н. \"эффективную размерность\").\n",
        "\n",
        "В случае метода главных компонент мы хотим найти направления, вдоль которых максимальна дисперсия, с учётом описанных выше предположений о структуре данных и компонент.\n",
        "\n",
        "Материал, описанный ниже в данной секции, не обязателен для ознакомления для выполнения следующего задания, т.к. требует некоторых знаний статистики.\n",
        "\n",
        "Для тех, кто собирается его пропустить: в конце раздела мы получим метрику качества, которая должна определять, насколько данные хорошо описываются построенной моделью при заданном числе компонент. Отбор признаков при этом сводится к тому, что мы выбираем то количество компонент, при котором используемая метрика (логарифм правдоподобия) является максимальной.\n",
        "\n",
        "С учётом предположений задача метода главных компонент выглядит следующим образом:\n",
        "\n",
        "$$ x = Wy + \\mu + \\epsilon$$\n",
        "\n",
        "где:\n",
        "- $x$ -- наблюдаемые данные\n",
        "- $W$ -- матрица главных компонент (каждый стобец -- одна компонента)\n",
        "- $y$ -- их проекция на главные компоненты\n",
        "- $\\mu$ -- среднее наблюдаемых данных\n",
        "- $\\epsilon \\sim \\mathcal{N}(0, \\sigma^2I)$ -- нормальный шум\n",
        "\n",
        "Исходя из распределения шума, выпишем распределение на $x$:\n",
        "\n",
        "$$p(x \\mid y) = \\mathcal{N}(Wy + \\mu, \\sigma^2I) $$\n",
        "\n",
        "Введём априорное распределение на $y$:\n",
        "\n",
        "$$p(y) = \\mathcal{N}(0, 1)$$\n",
        "\n",
        "Выведем из этого при помощи формулы Байеса маргинальное распределение на $p(x)$:\n",
        "\n",
        "$$p(x) = \\mathcal{N}(\\mu, \\sigma^2I + WW^T)$$\n",
        "\n",
        "Тогда правдоподобие набора данных при условии используемой модели выглядит следующим образом:\n",
        "\n",
        "$$\\mathcal{L} = \\sum_{i=1}^N \\log p(x_i) = -N/2 \\Big( d\\log(2\\pi) + \\log |C| + \\text{tr}(C^{-1}S) \\Big)$$\n",
        "\n",
        "где:\n",
        "- $C = \\sigma^2I + WW^T$ -- матрица ковариации в маргинальной модели\n",
        "- $S = \\frac{1}{N} \\sum_{i=1}^N (x_i - \\mu)(x_i - \\mu)^T$ -- выборочная ковариация\n",
        "\n",
        "Значение $\\mathcal{L}$ имеет смысл логарифма вероятности получения набора данных $X$ при условии, что он удовлетворяет предположениям модели метода главных компонент. Чем оно больше -- тем лучше модель описывает наблюдаемые данные."
      ]
    },
    {
      "cell_type": "markdown",
      "metadata": {
        "id": "8DnWGx7we59a"
      },
      "source": [
        "## Задание 1. Автоматическое уменьшение размерности данных при помощи логарифма правдоподобия $\\mathcal{L}$\n",
        "\n",
        "Рассмотрим набор данных размерности $D$, чья реальная размерность значительно меньше наблюдаемой (назовём её $d$). От вас требуется:\n",
        "\n",
        "1. Для каждого значения $\\hat{d}$ в интервале [1,D] построить модель PCA с $\\hat{d}$ главными компонентами.\n",
        "2. Оценить средний логарифм правдоподобия данных для каждой модели на генеральной совокупности, используя метод кросс-валидации с 3 фолдами (итоговая оценка значения логарифма правдоподобия усредняется по всем фолдам).\n",
        "3. Найти модель, для которой он максимален, и внести в файл ответа число компонент в данной модели, т.е. значение $\\hat{d}_{opt}$.\n",
        "\n",
        "Для оценки логарифма правдоподобия модели для заданного числа главных компонент при помощи метода кросс-валидации используйте следующие функции:\n",
        "\n",
        "    model = PCA(n_components=n)\n",
        "    scores = cv_score(model, data)\n",
        "        \n",
        "Обратите внимание, что scores -- это вектор, длина которого равна числу фолдов. Для получения оценки на правдоподобие модели его значения требуется усреднить.\n",
        "\n",
        "Для визуализации оценок можете использовать следующую функцию:\n",
        "\n",
        "    plot_scores(d_scores)\n",
        "    \n",
        "которой на вход передаётся вектор полученных оценок логарифма правдоподобия данных для каждого $\\hat{d}$.\n",
        "\n",
        "Для интересующихся: данные для заданий 1 и 2 были сгенерированны в соответствии с предполагаемой PCA моделью. То есть: данные $Y$ с эффективной размерностью $d$, полученные из независимых равномерных распределений, линейно траснформированны случайной матрицей $W$ в пространство размерностью $D$, после чего ко всем признакам был добавлен независимый нормальный шум с дисперсией $\\sigma$."
      ]
    },
    {
      "cell_type": "code",
      "execution_count": 40,
      "metadata": {
        "colab": {
          "base_uri": "https://localhost:8080/",
          "height": 442
        },
        "id": "lnG94s5ze59b",
        "outputId": "a1ba7495-e992-4431-9e46-76be859fe2ad"
      },
      "outputs": [],
      "source": [
        "from sklearn.decomposition import PCA\n",
        "from sklearn.model_selection import cross_val_score as cv_score\n",
        "\n",
        "def plot_scores(d_scores):\n",
        "    n_components = np.arange(1,d_scores.size+1)\n",
        "    plt.plot(n_components, d_scores, 'b', label='PCA scores')\n",
        "    plt.xlim(n_components[0], n_components[-1])\n",
        "    plt.xlabel('n components')\n",
        "    plt.ylabel('cv scores')\n",
        "    plt.legend(loc='lower right')\n",
        "    plt.show()\n",
        "    \n",
        "        \n",
        "data = pd.read_csv('data_task1.csv')\n",
        "\n",
        "# place your code here\n",
        "pass"
      ]
    },
    {
      "cell_type": "code",
      "execution_count": 41,
      "metadata": {
        "colab": {
          "base_uri": "https://localhost:8080/"
        },
        "id": "FonLMsXSoUM-",
        "outputId": "1d5bfd97-1f4d-440d-f0b7-e01571fc27fb"
      },
      "outputs": [
        {
          "data": {
            "text/plain": [
              "(3000, 80)"
            ]
          },
          "execution_count": 41,
          "metadata": {},
          "output_type": "execute_result"
        }
      ],
      "source": [
        "data = pd.read_csv('data_task1.csv')\n",
        "data.shape"
      ]
    },
    {
      "cell_type": "code",
      "execution_count": 42,
      "metadata": {
        "id": "5Re4fnSXpQ7E"
      },
      "outputs": [],
      "source": [
        "a = np.zeros(80)\n",
        "a[0] = 1"
      ]
    },
    {
      "cell_type": "code",
      "execution_count": 43,
      "metadata": {
        "colab": {
          "base_uri": "https://localhost:8080/",
          "height": 282
        },
        "id": "fkc9X-SXlbks",
        "outputId": "59243dc8-1666-43d8-bd28-f0c536e2bcbd"
      },
      "outputs": [
        {
          "data": {
            "image/png": "[encoded data removed]",
            "text/plain": [
              "<Figure size 432x288 with 1 Axes>"
            ]
          },
          "metadata": {
            "needs_background": "light"
          },
          "output_type": "display_data"
        }
      ],
      "source": [
        "d_scores = np.zeros(80)\n",
        "for d in range(1, data.shape[1]+1):\n",
        "  model = PCA(n_components=d)\n",
        "  model.fit(data)\n",
        "  scores = np.array(([cv_score(model, data, cv=3)]))\n",
        "  d_scores[d-1] = scores.mean()\n",
        "plot_scores(d_scores)\n"
      ]
    },
    {
      "cell_type": "markdown",
      "metadata": {
        "id": "41EqfWMOe59c"
      },
      "source": [
        "## Вариационный взгляд на модель\n",
        "\n",
        "Мы знаем, что каждой главной компоненте соответствует описываемая ей дисперсия данных (дисперсия данных при проекции на эту компоненту). Она численно равна значению диагональных элементов матрицы $\\Lambda$, получаемой из спектрального разложения матрицы ковариации данных (смотри теорию выше).\n",
        "\n",
        "Исходя из этого, мы можем отсортировать дисперсию данных вдоль этих компонент по убыванию, и уменьшить размерность данных, отбросив $q$ итоговых главных компонент, имеющих наименьшую дисперсию.\n",
        "\n",
        "Делать это можно двумя разными способами. Например, если вы вдальнейшем обучаете на данных с уменьшенной размерностью модель классификации или регрессии, то можно запустить итерационный процесс: удалять компоненты с наименьшей дисперсией по одной, пока качество итоговой модели не станет значительно хуже.\n",
        "\n",
        "Более общий способ отбора признаков заключается в том, что вы можете посмотреть на разности в дисперсиях в отсортированном ряде $\\lambda_{(1)} > \\lambda_{(2)} > \\dots > \\lambda_{(D)}$: $\\lambda_{(1)}-\\lambda_{(2)}, \\dots, \\lambda_{(D-1)} - \\lambda_{(D)}$, и удалить те компоненты, на которых разность будет наибольшей. Именно этим методом вам и предлагается воспользоваться для тестового набора данных."
      ]
    },
    {
      "cell_type": "markdown",
      "metadata": {
        "id": "yJz3TM65e59d"
      },
      "source": [
        "## Задание 2. Ручное уменьшение размерности признаков посредством анализа дисперсии данных вдоль главных компонент\n",
        "\n",
        "Рассмотрим ещё один набор данных размерности $D$, чья реальная размерность значительно меньше наблюдаемой (назовём её также $d$). От вас требуется:\n",
        "\n",
        "1. Построить модель PCA с $D$ главными компонентами по этим данным.\n",
        "2. Спроецировать данные на главные компоненты.\n",
        "3. Оценить их дисперсию вдоль главных компонент.\n",
        "4. Отсортировать дисперсии в порядке убывания и получить их попарные разности: $\\lambda_{(i-1)} - \\lambda_{(i)}$.\n",
        "5. Найти разность с наибольшим значением и получить по ней оценку на эффективную размерность данных $\\hat{d}$.\n",
        "6. Построить график дисперсий и убедиться, что полученная оценка на $\\hat{d}_{opt}$ действительно имеет смысл, после этого внести полученное значение $\\hat{d}_{opt}$ в файл ответа.\n",
        "\n",
        "Для построения модели PCA используйте функцию:\n",
        "\n",
        "    model.fit(data)\n",
        "    \n",
        "Для трансформации данных используйте метод:\n",
        "\n",
        "    model.transform(data)\n",
        "    \n",
        "Оценку дисперсий на трансформированных данных от вас потребуется реализовать вручную. Для построения графиков можно воспользоваться функцией\n",
        "\n",
        "    plot_variances(d_variances)\n",
        "    \n",
        "которой следует передать на вход отсортированный по убыванию вектор дисперсий вдоль компонент."
      ]
    },
    {
      "cell_type": "code",
      "execution_count": 44,
      "metadata": {
        "id": "wRnSpMu0e59e"
      },
      "outputs": [],
      "source": [
        "from sklearn.decomposition import PCA\n",
        "from sklearn.model_selection import cross_val_score as cv_score\n",
        "\n",
        "def plot_variances(d_variances):\n",
        "    n_components = np.arange(1,d_variances.size+1)\n",
        "    plt.plot(n_components, d_variances, 'b', label='Component variances')\n",
        "    plt.xlim(n_components[0], n_components[-1])\n",
        "    plt.xlabel('n components')\n",
        "    plt.ylabel('variance')\n",
        "    plt.legend(loc='upper right')\n",
        "    plt.show()\n",
        "\n",
        "        \n",
        "data = pd.read_csv('data_task2.csv')\n",
        "\n",
        "# place your code here\n",
        "pass"
      ]
    },
    {
      "cell_type": "code",
      "execution_count": 45,
      "metadata": {
        "colab": {
          "base_uri": "https://localhost:8080/"
        },
        "id": "8_SdpCPidpKE",
        "outputId": "237b4c7f-73ac-4e5a-ec54-3de63eaf4060"
      },
      "outputs": [
        {
          "data": {
            "text/plain": [
              "(3000, 100)"
            ]
          },
          "execution_count": 45,
          "metadata": {},
          "output_type": "execute_result"
        }
      ],
      "source": [
        "data.shape"
      ]
    },
    {
      "cell_type": "code",
      "execution_count": 46,
      "metadata": {
        "colab": {
          "base_uri": "https://localhost:8080/",
          "height": 253
        },
        "id": "HkIFA8HodtR1",
        "outputId": "cbe93f2a-d55b-47f1-bcfc-3ff539ab29a7"
      },
      "outputs": [
        {
          "data": {
            "text/html": [
              "<div>\n",
              "<style scoped>\n",
              "    .dataframe tbody tr th:only-of-type {\n",
              "        vertical-align: middle;\n",
              "    }\n",
              "\n",
              "    .dataframe tbody tr th {\n",
              "        vertical-align: top;\n",
              "    }\n",
              "\n",
              "    .dataframe thead th {\n",
              "        text-align: right;\n",
              "    }\n",
              "</style>\n",
              "<table border=\"1\" class=\"dataframe\">\n",
              "  <thead>\n",
              "    <tr style=\"text-align: right;\">\n",
              "      <th></th>\n",
              "      <th>0</th>\n",
              "      <th>1</th>\n",
              "      <th>2</th>\n",
              "      <th>3</th>\n",
              "      <th>4</th>\n",
              "      <th>5</th>\n",
              "      <th>6</th>\n",
              "      <th>7</th>\n",
              "      <th>8</th>\n",
              "      <th>9</th>\n",
              "      <th>...</th>\n",
              "      <th>90</th>\n",
              "      <th>91</th>\n",
              "      <th>92</th>\n",
              "      <th>93</th>\n",
              "      <th>94</th>\n",
              "      <th>95</th>\n",
              "      <th>96</th>\n",
              "      <th>97</th>\n",
              "      <th>98</th>\n",
              "      <th>99</th>\n",
              "    </tr>\n",
              "  </thead>\n",
              "  <tbody>\n",
              "    <tr>\n",
              "      <th>0</th>\n",
              "      <td>0.848776</td>\n",
              "      <td>-0.666596</td>\n",
              "      <td>-0.724109</td>\n",
              "      <td>-0.584370</td>\n",
              "      <td>-0.460105</td>\n",
              "      <td>1.161415</td>\n",
              "      <td>-0.153160</td>\n",
              "      <td>-2.253871</td>\n",
              "      <td>1.375337</td>\n",
              "      <td>0.561841</td>\n",
              "      <td>...</td>\n",
              "      <td>1.328021</td>\n",
              "      <td>0.615259</td>\n",
              "      <td>1.447412</td>\n",
              "      <td>1.177600</td>\n",
              "      <td>-0.643321</td>\n",
              "      <td>0.005454</td>\n",
              "      <td>-1.075457</td>\n",
              "      <td>0.636591</td>\n",
              "      <td>0.075188</td>\n",
              "      <td>-0.461723</td>\n",
              "    </tr>\n",
              "    <tr>\n",
              "      <th>1</th>\n",
              "      <td>0.560569</td>\n",
              "      <td>-0.493592</td>\n",
              "      <td>-0.149612</td>\n",
              "      <td>-0.262415</td>\n",
              "      <td>0.967470</td>\n",
              "      <td>-1.094108</td>\n",
              "      <td>0.815526</td>\n",
              "      <td>0.487121</td>\n",
              "      <td>1.537931</td>\n",
              "      <td>-2.168744</td>\n",
              "      <td>...</td>\n",
              "      <td>0.523245</td>\n",
              "      <td>-0.979103</td>\n",
              "      <td>2.280059</td>\n",
              "      <td>-1.413170</td>\n",
              "      <td>1.146576</td>\n",
              "      <td>-1.179831</td>\n",
              "      <td>0.569553</td>\n",
              "      <td>-0.073751</td>\n",
              "      <td>-0.841962</td>\n",
              "      <td>0.474029</td>\n",
              "    </tr>\n",
              "    <tr>\n",
              "      <th>2</th>\n",
              "      <td>-1.484923</td>\n",
              "      <td>-0.622672</td>\n",
              "      <td>0.305978</td>\n",
              "      <td>0.040120</td>\n",
              "      <td>-2.851857</td>\n",
              "      <td>0.092543</td>\n",
              "      <td>-0.029286</td>\n",
              "      <td>-0.624243</td>\n",
              "      <td>-1.155940</td>\n",
              "      <td>0.658744</td>\n",
              "      <td>...</td>\n",
              "      <td>0.916887</td>\n",
              "      <td>1.494340</td>\n",
              "      <td>-1.801660</td>\n",
              "      <td>0.164034</td>\n",
              "      <td>0.467053</td>\n",
              "      <td>-0.872597</td>\n",
              "      <td>0.066600</td>\n",
              "      <td>1.388963</td>\n",
              "      <td>-1.446373</td>\n",
              "      <td>-0.002239</td>\n",
              "    </tr>\n",
              "    <tr>\n",
              "      <th>3</th>\n",
              "      <td>-1.487085</td>\n",
              "      <td>-0.252582</td>\n",
              "      <td>-0.429568</td>\n",
              "      <td>-0.124176</td>\n",
              "      <td>-0.547003</td>\n",
              "      <td>0.942490</td>\n",
              "      <td>-0.783337</td>\n",
              "      <td>-0.994770</td>\n",
              "      <td>2.140593</td>\n",
              "      <td>-0.978872</td>\n",
              "      <td>...</td>\n",
              "      <td>-1.177229</td>\n",
              "      <td>-0.892356</td>\n",
              "      <td>-0.166295</td>\n",
              "      <td>-1.507428</td>\n",
              "      <td>1.218209</td>\n",
              "      <td>-0.769020</td>\n",
              "      <td>1.439147</td>\n",
              "      <td>0.713580</td>\n",
              "      <td>0.765335</td>\n",
              "      <td>-0.452884</td>\n",
              "    </tr>\n",
              "    <tr>\n",
              "      <th>4</th>\n",
              "      <td>0.462349</td>\n",
              "      <td>0.751057</td>\n",
              "      <td>0.140967</td>\n",
              "      <td>-0.006099</td>\n",
              "      <td>-0.244748</td>\n",
              "      <td>-0.075261</td>\n",
              "      <td>0.924772</td>\n",
              "      <td>0.417142</td>\n",
              "      <td>-0.985730</td>\n",
              "      <td>-1.375670</td>\n",
              "      <td>...</td>\n",
              "      <td>-1.392519</td>\n",
              "      <td>0.502969</td>\n",
              "      <td>1.538669</td>\n",
              "      <td>1.002944</td>\n",
              "      <td>-0.832352</td>\n",
              "      <td>0.990356</td>\n",
              "      <td>-1.733266</td>\n",
              "      <td>-0.201313</td>\n",
              "      <td>-0.834691</td>\n",
              "      <td>-1.118169</td>\n",
              "    </tr>\n",
              "  </tbody>\n",
              "</table>\n",
              "<p>5 rows × 100 columns</p>\n",
              "</div>"
            ],
            "text/plain": [
              "          0         1         2         3         4         5         6  \\\n",
              "0  0.848776 -0.666596 -0.724109 -0.584370 -0.460105  1.161415 -0.153160   \n",
              "1  0.560569 -0.493592 -0.149612 -0.262415  0.967470 -1.094108  0.815526   \n",
              "2 -1.484923 -0.622672  0.305978  0.040120 -2.851857  0.092543 -0.029286   \n",
              "3 -1.487085 -0.252582 -0.429568 -0.124176 -0.547003  0.942490 -0.783337   \n",
              "4  0.462349  0.751057  0.140967 -0.006099 -0.244748 -0.075261  0.924772   \n",
              "\n",
              "          7         8         9  ...        90        91        92        93  \\\n",
              "0 -2.253871  1.375337  0.561841  ...  1.328021  0.615259  1.447412  1.177600   \n",
              "1  0.487121  1.537931 -2.168744  ...  0.523245 -0.979103  2.280059 -1.413170   \n",
              "2 -0.624243 -1.155940  0.658744  ...  0.916887  1.494340 -1.801660  0.164034   \n",
              "3 -0.994770  2.140593 -0.978872  ... -1.177229 -0.892356 -0.166295 -1.507428   \n",
              "4  0.417142 -0.985730 -1.375670  ... -1.392519  0.502969  1.538669  1.002944   \n",
              "\n",
              "         94        95        96        97        98        99  \n",
              "0 -0.643321  0.005454 -1.075457  0.636591  0.075188 -0.461723  \n",
              "1  1.146576 -1.179831  0.569553 -0.073751 -0.841962  0.474029  \n",
              "2  0.467053 -0.872597  0.066600  1.388963 -1.446373 -0.002239  \n",
              "3  1.218209 -0.769020  1.439147  0.713580  0.765335 -0.452884  \n",
              "4 -0.832352  0.990356 -1.733266 -0.201313 -0.834691 -1.118169  \n",
              "\n",
              "[5 rows x 100 columns]"
            ]
          },
          "execution_count": 46,
          "metadata": {},
          "output_type": "execute_result"
        }
      ],
      "source": [
        "data.head()"
      ]
    },
    {
      "cell_type": "code",
      "execution_count": 47,
      "metadata": {
        "id": "NBzTEYDbcxY0"
      },
      "outputs": [],
      "source": [
        "model_2 = PCA(n_components=100)"
      ]
    },
    {
      "cell_type": "code",
      "execution_count": 48,
      "metadata": {
        "colab": {
          "base_uri": "https://localhost:8080/"
        },
        "id": "l2dZtQBTdGuf",
        "outputId": "4e0f0d95-05d0-45d7-a9e1-26c6825c4a8f"
      },
      "outputs": [
        {
          "data": {
            "text/plain": [
              "PCA(n_components=100)"
            ]
          },
          "execution_count": 48,
          "metadata": {},
          "output_type": "execute_result"
        }
      ],
      "source": [
        "model_2.fit(data)"
      ]
    },
    {
      "cell_type": "code",
      "execution_count": 49,
      "metadata": {
        "colab": {
          "base_uri": "https://localhost:8080/",
          "height": 253
        },
        "id": "6qhaNYAUdVRN",
        "outputId": "446fcd73-a006-48d5-a6bc-d813c5545c0a"
      },
      "outputs": [
        {
          "data": {
            "text/html": [
              "<div>\n",
              "<style scoped>\n",
              "    .dataframe tbody tr th:only-of-type {\n",
              "        vertical-align: middle;\n",
              "    }\n",
              "\n",
              "    .dataframe tbody tr th {\n",
              "        vertical-align: top;\n",
              "    }\n",
              "\n",
              "    .dataframe thead th {\n",
              "        text-align: right;\n",
              "    }\n",
              "</style>\n",
              "<table border=\"1\" class=\"dataframe\">\n",
              "  <thead>\n",
              "    <tr style=\"text-align: right;\">\n",
              "      <th></th>\n",
              "      <th>0</th>\n",
              "      <th>1</th>\n",
              "      <th>2</th>\n",
              "      <th>3</th>\n",
              "      <th>4</th>\n",
              "      <th>5</th>\n",
              "      <th>6</th>\n",
              "      <th>7</th>\n",
              "      <th>8</th>\n",
              "      <th>9</th>\n",
              "      <th>...</th>\n",
              "      <th>90</th>\n",
              "      <th>91</th>\n",
              "      <th>92</th>\n",
              "      <th>93</th>\n",
              "      <th>94</th>\n",
              "      <th>95</th>\n",
              "      <th>96</th>\n",
              "      <th>97</th>\n",
              "      <th>98</th>\n",
              "      <th>99</th>\n",
              "    </tr>\n",
              "  </thead>\n",
              "  <tbody>\n",
              "    <tr>\n",
              "      <th>0</th>\n",
              "      <td>-0.303448</td>\n",
              "      <td>-1.297513</td>\n",
              "      <td>-0.702393</td>\n",
              "      <td>-2.100699</td>\n",
              "      <td>0.520796</td>\n",
              "      <td>0.388870</td>\n",
              "      <td>-2.732780</td>\n",
              "      <td>-0.848452</td>\n",
              "      <td>1.835597</td>\n",
              "      <td>1.114013</td>\n",
              "      <td>...</td>\n",
              "      <td>-0.368638</td>\n",
              "      <td>-1.697923</td>\n",
              "      <td>-0.128998</td>\n",
              "      <td>1.535820</td>\n",
              "      <td>-1.314162</td>\n",
              "      <td>0.361324</td>\n",
              "      <td>1.201469</td>\n",
              "      <td>-1.477302</td>\n",
              "      <td>1.116291</td>\n",
              "      <td>-0.252445</td>\n",
              "    </tr>\n",
              "    <tr>\n",
              "      <th>1</th>\n",
              "      <td>-0.091535</td>\n",
              "      <td>0.650522</td>\n",
              "      <td>-0.652686</td>\n",
              "      <td>0.927167</td>\n",
              "      <td>-1.423604</td>\n",
              "      <td>-0.760707</td>\n",
              "      <td>0.928270</td>\n",
              "      <td>0.447745</td>\n",
              "      <td>-0.945732</td>\n",
              "      <td>0.817630</td>\n",
              "      <td>...</td>\n",
              "      <td>-0.452612</td>\n",
              "      <td>0.473226</td>\n",
              "      <td>-1.808577</td>\n",
              "      <td>-0.506027</td>\n",
              "      <td>1.045131</td>\n",
              "      <td>0.522461</td>\n",
              "      <td>0.255927</td>\n",
              "      <td>0.564312</td>\n",
              "      <td>-0.100945</td>\n",
              "      <td>0.600525</td>\n",
              "    </tr>\n",
              "    <tr>\n",
              "      <th>2</th>\n",
              "      <td>-3.993845</td>\n",
              "      <td>0.790416</td>\n",
              "      <td>-1.319794</td>\n",
              "      <td>2.666427</td>\n",
              "      <td>-0.375565</td>\n",
              "      <td>-1.354022</td>\n",
              "      <td>0.435933</td>\n",
              "      <td>0.108115</td>\n",
              "      <td>-1.620338</td>\n",
              "      <td>2.712436</td>\n",
              "      <td>...</td>\n",
              "      <td>-0.106978</td>\n",
              "      <td>0.195364</td>\n",
              "      <td>-1.258126</td>\n",
              "      <td>-0.405298</td>\n",
              "      <td>0.506323</td>\n",
              "      <td>-0.107232</td>\n",
              "      <td>-1.698538</td>\n",
              "      <td>1.019342</td>\n",
              "      <td>1.407971</td>\n",
              "      <td>-0.380809</td>\n",
              "    </tr>\n",
              "    <tr>\n",
              "      <th>3</th>\n",
              "      <td>0.479414</td>\n",
              "      <td>-1.830775</td>\n",
              "      <td>-1.315965</td>\n",
              "      <td>-0.850315</td>\n",
              "      <td>1.133751</td>\n",
              "      <td>0.662747</td>\n",
              "      <td>-0.144562</td>\n",
              "      <td>-1.900226</td>\n",
              "      <td>0.791622</td>\n",
              "      <td>-2.571803</td>\n",
              "      <td>...</td>\n",
              "      <td>-0.283668</td>\n",
              "      <td>-0.503954</td>\n",
              "      <td>0.792451</td>\n",
              "      <td>-0.181166</td>\n",
              "      <td>-1.087597</td>\n",
              "      <td>0.544176</td>\n",
              "      <td>-1.177099</td>\n",
              "      <td>-0.270474</td>\n",
              "      <td>-0.364001</td>\n",
              "      <td>1.512906</td>\n",
              "    </tr>\n",
              "    <tr>\n",
              "      <th>4</th>\n",
              "      <td>-1.595146</td>\n",
              "      <td>1.903184</td>\n",
              "      <td>1.462989</td>\n",
              "      <td>-1.326389</td>\n",
              "      <td>0.884250</td>\n",
              "      <td>1.486740</td>\n",
              "      <td>0.289936</td>\n",
              "      <td>-1.297772</td>\n",
              "      <td>-1.161080</td>\n",
              "      <td>0.809535</td>\n",
              "      <td>...</td>\n",
              "      <td>-0.776620</td>\n",
              "      <td>-0.182557</td>\n",
              "      <td>-0.007264</td>\n",
              "      <td>-1.808407</td>\n",
              "      <td>0.473013</td>\n",
              "      <td>-0.667921</td>\n",
              "      <td>-0.974934</td>\n",
              "      <td>0.377042</td>\n",
              "      <td>-0.366798</td>\n",
              "      <td>0.395957</td>\n",
              "    </tr>\n",
              "  </tbody>\n",
              "</table>\n",
              "<p>5 rows × 100 columns</p>\n",
              "</div>"
            ],
            "text/plain": [
              "         0         1         2         3         4         5         6   \\\n",
              "0 -0.303448 -1.297513 -0.702393 -2.100699  0.520796  0.388870 -2.732780   \n",
              "1 -0.091535  0.650522 -0.652686  0.927167 -1.423604 -0.760707  0.928270   \n",
              "2 -3.993845  0.790416 -1.319794  2.666427 -0.375565 -1.354022  0.435933   \n",
              "3  0.479414 -1.830775 -1.315965 -0.850315  1.133751  0.662747 -0.144562   \n",
              "4 -1.595146  1.903184  1.462989 -1.326389  0.884250  1.486740  0.289936   \n",
              "\n",
              "         7         8         9   ...        90        91        92        93  \\\n",
              "0 -0.848452  1.835597  1.114013  ... -0.368638 -1.697923 -0.128998  1.535820   \n",
              "1  0.447745 -0.945732  0.817630  ... -0.452612  0.473226 -1.808577 -0.506027   \n",
              "2  0.108115 -1.620338  2.712436  ... -0.106978  0.195364 -1.258126 -0.405298   \n",
              "3 -1.900226  0.791622 -2.571803  ... -0.283668 -0.503954  0.792451 -0.181166   \n",
              "4 -1.297772 -1.161080  0.809535  ... -0.776620 -0.182557 -0.007264 -1.808407   \n",
              "\n",
              "         94        95        96        97        98        99  \n",
              "0 -1.314162  0.361324  1.201469 -1.477302  1.116291 -0.252445  \n",
              "1  1.045131  0.522461  0.255927  0.564312 -0.100945  0.600525  \n",
              "2  0.506323 -0.107232 -1.698538  1.019342  1.407971 -0.380809  \n",
              "3 -1.087597  0.544176 -1.177099 -0.270474 -0.364001  1.512906  \n",
              "4  0.473013 -0.667921 -0.974934  0.377042 -0.366798  0.395957  \n",
              "\n",
              "[5 rows x 100 columns]"
            ]
          },
          "execution_count": 49,
          "metadata": {},
          "output_type": "execute_result"
        }
      ],
      "source": [
        "data_2 = pd.DataFrame(model_2.transform(data))\n",
        "data_2.head()"
      ]
    },
    {
      "cell_type": "code",
      "execution_count": 50,
      "metadata": {
        "colab": {
          "base_uri": "https://localhost:8080/"
        },
        "id": "zVP755kOdVlB",
        "outputId": "6fddeb26-087f-4c8f-ba00-4ebaa5bd5a8a"
      },
      "outputs": [
        {
          "data": {
            "text/plain": [
              "0      -0.303448\n",
              "1      -0.091535\n",
              "2      -3.993845\n",
              "3       0.479414\n",
              "4      -1.595146\n",
              "          ...   \n",
              "2995    1.135144\n",
              "2996    0.642232\n",
              "2997    0.673017\n",
              "2998   -1.790572\n",
              "2999   -0.478952\n",
              "Name: 0, Length: 3000, dtype: float64"
            ]
          },
          "execution_count": 50,
          "metadata": {},
          "output_type": "execute_result"
        }
      ],
      "source": [
        "data_2[0][:]"
      ]
    },
    {
      "cell_type": "code",
      "execution_count": 51,
      "metadata": {
        "id": "NsbXscotdV1E"
      },
      "outputs": [],
      "source": [
        "import statistics\n",
        "variance = np.zeros(100)\n",
        "for i in range(99):\n",
        "  variance[i] = statistics.pvariance(data_2[i][:])"
      ]
    },
    {
      "cell_type": "code",
      "execution_count": 52,
      "metadata": {
        "colab": {
          "base_uri": "https://localhost:8080/"
        },
        "id": "A6TRe6gvhWPy",
        "outputId": "d94a730a-fb8b-4a41-abea-2505256de61e"
      },
      "outputs": [
        {
          "data": {
            "text/plain": [
              "array([2.45219016, 2.34643354, 2.3275981 , 2.29139233, 2.2598353 ,\n",
              "       2.23599205, 2.22980061, 2.16077896, 2.1234893 , 2.11651427,\n",
              "       2.10080549, 2.08592078, 2.06883539, 2.01807705, 2.01502369,\n",
              "       1.99686475, 1.98932893, 1.97201885, 1.96080564, 1.93507023,\n",
              "       1.91063755, 1.88025573, 1.8725106 , 1.86037971, 1.83687745,\n",
              "       1.83041513, 1.76636583, 1.75932312, 1.70843562, 1.67386055,\n",
              "       1.30169831, 1.27370171, 1.25946722, 1.24788131, 1.23694265,\n",
              "       1.22614383, 1.21563096, 1.202975  , 1.19138346, 1.17665658,\n",
              "       1.17113592, 1.15930714, 1.14383287, 1.13695952, 1.12771577,\n",
              "       1.12054233, 1.1190401 , 1.10850396, 1.10116834, 1.0924444 ,\n",
              "       1.08045379, 1.0712418 , 1.06858888, 1.05917817, 1.05882369,\n",
              "       1.03964578, 1.03146802, 1.02123126, 1.01529859, 1.00556259,\n",
              "       1.00380692, 0.99350793, 0.98790046, 0.98386303, 0.97989345,\n",
              "       0.96881449, 0.96015348, 0.95542389, 0.94836408, 0.94311211,\n",
              "       0.94066112, 0.93121512, 0.92400082, 0.92130205, 0.91371832,\n",
              "       0.91054578, 0.90518982, 0.89260491, 0.88420927, 0.88345969,\n",
              "       0.86915281, 0.86422286, 0.85871236, 0.85752901, 0.84747287,\n",
              "       0.83681523, 0.82100126, 0.81753573, 0.81116021, 0.80652415,\n",
              "       0.79680705, 0.79070458, 0.7881048 , 0.78011872, 0.76707877,\n",
              "       0.76102487, 0.7597056 , 0.75393073, 0.73416194, 0.        ])"
            ]
          },
          "execution_count": 52,
          "metadata": {},
          "output_type": "execute_result"
        }
      ],
      "source": [
        "d_variance = np.sort(variance)[::-1]\n",
        "d_variance"
      ]
    },
    {
      "cell_type": "code",
      "execution_count": 53,
      "metadata": {
        "colab": {
          "base_uri": "https://localhost:8080/",
          "height": 282
        },
        "id": "delJD5-Dj3z2",
        "outputId": "b1476973-d4f9-4dcc-c87d-984668772774"
      },
      "outputs": [
        {
          "data": {
            "image/png": "[encoded data removed]",
            "text/plain": [
              "<Figure size 432x288 with 1 Axes>"
            ]
          },
          "metadata": {
            "needs_background": "light"
          },
          "output_type": "display_data"
        }
      ],
      "source": [
        "plot_variances(d_variance)"
      ]
    },
    {
      "cell_type": "code",
      "execution_count": 54,
      "metadata": {
        "id": "vJS0NTKUkE34"
      },
      "outputs": [],
      "source": [
        "d_range = np.zeros(98)\n",
        "for i in range(98):\n",
        "  d_range[i] = d_variance[i] - d_variance[i+1]"
      ]
    },
    {
      "cell_type": "markdown",
      "metadata": {
        "id": "1YEG-5y3e59e"
      },
      "source": [
        "## Интерпретация главных компонент\n",
        "\n",
        "В качестве главных компонент мы получаем линейные комбинации исходных призанков, поэтому резонно возникает вопрос об их интерпретации.\n",
        "\n",
        "Для этого существует несколько подходов, мы рассмотрим два:\n",
        "- рассчитать взаимосвязи главных компонент с исходными признаками\n",
        "- рассчитать вклады каждого конкретного наблюдения в главные компоненты\n",
        "\n",
        "Первый способ подходит в том случае, когда все объекты из набора данных не несут для нас никакой семантической информации, которая уже не запечатлена в наборе признаков.\n",
        "\n",
        "Второй способ подходит для случая, когда данные имеют более сложную структуру. Например, лица для человека несут больший семантический смысл, чем вектор значений пикселей, которые анализирует PCA.\n",
        "\n",
        "Рассмотрим подробнее способ 1: он заключается в подсчёте коэффициентов корреляций между исходными признаками и набором главных компонент.\n",
        "\n",
        "Так как метод главных компонент является линейным, то предлагается для анализа использовать корреляцию Пирсона, выборочный аналог которой имеет следующую формулу:\n",
        "\n",
        "$$r_{jk} = \\frac{\\sum_{i=1}^N (x_{ij} - \\bar{x}_j) (y_{ik} - \\bar{y}_k)}{\\sqrt{\\sum_{i=1}^N (x_{ij} - \\bar{x}_j)^2 \\sum_{i=1}^N (y_{ik} - \\bar{y}_k)^2}} $$\n",
        "\n",
        "где:\n",
        "- $\\bar{x}_j$ -- среднее значение j-го признака,\n",
        "- $\\bar{y}_k$ -- среднее значение проекции на k-ю главную компоненту.\n",
        "\n",
        "Корреляция Пирсона является мерой линейной зависимости. Она равна 0 в случае, когда величины независимы, и $\\pm 1$, если они линейно зависимы. Исходя из степени корреляции новой компоненты с исходными признаками, можно строить её семантическую интерпретацию, т.к. смысл исходных признаков мы знаем."
      ]
    },
    {
      "cell_type": "markdown",
      "metadata": {
        "id": "umEemz8le59f"
      },
      "source": [
        "## Задание 3. Анализ главных компонент при помощи корреляций с исходными признаками.\n",
        "\n",
        "1. Обучите метод главных компонент на датасете iris, получите преобразованные данные.\n",
        "2. Посчитайте корреляции исходных признаков с их проекциями на первые две главные компоненты.\n",
        "3. Для каждого признака найдите компоненту (из двух построенных), с которой он коррелирует больше всего.\n",
        "4. На основании п.3 сгруппируйте признаки по компонентам. Составьте два списка: список номеров признаков, которые сильнее коррелируют с первой компонентой, и такой же список для второй. Нумерацию начинать с единицы. Передайте оба списка функции write_answer_3.\n",
        "\n",
        "Набор данных состоит из 4 признаков, посчитанных для 150 ирисов. Каждый из них принадлежит одному из трёх видов. Визуализацию проекции данного датасета на две компоненты, которые описывают наибольшую дисперсию данных, можно получить при помощи функции\n",
        "\n",
        "    plot_iris(transformed_data, target, target_names)\n",
        "    \n",
        "на вход которой требуется передать данные, преобразованные при помощи PCA, а также информацию о классах. Цвет точек отвечает одному из трёх видов ириса.\n",
        "\n",
        "Для того чтобы получить имена исходных признаков, используйте следующий список:\n",
        "\n",
        "    iris.feature_names\n",
        "    \n",
        "При подсчёте корреляций не забудьте центрировать признаки и проекции на главные компоненты (вычитать из них среднее)."
      ]
    },
    {
      "cell_type": "code",
      "execution_count": 56,
      "metadata": {
        "colab": {
          "base_uri": "https://localhost:8080/",
          "height": 350
        },
        "id": "uu_ZzKVde59g",
        "outputId": "183c2c03-aded-4a44-b9e6-097bdec1e4c3"
      },
      "outputs": [],
      "source": [
        "from sklearn import datasets\n",
        "\n",
        "def plot_iris(transformed_data, target, target_names):\n",
        "    plt.figure()\n",
        "    for c, i, target_name in zip(\"rgb\", [0, 1, 2], target_names):\n",
        "        plt.scatter(transformed_data[target == i, 0],\n",
        "                    transformed_data[target == i, 1], c=c, label=target_name)\n",
        "    plt.legend()\n",
        "    plt.show()\n",
        "\n",
        "\n",
        "# загрузим датасет iris\n",
        "iris = datasets.load_iris()\n",
        "data = pd.DataFrame(iris.data)\n",
        "target = iris.target\n",
        "target_names = iris.target_names\n",
        "\n",
        "# place your code here"
      ]
    },
    {
      "cell_type": "code",
      "execution_count": 57,
      "metadata": {
        "colab": {
          "base_uri": "https://localhost:8080/"
        },
        "id": "p9aR4cfsoGfY",
        "outputId": "4c11ded2-544a-4104-9822-bdd359b38d7f"
      },
      "outputs": [
        {
          "name": "stdout",
          "output_type": "stream",
          "text": [
            "[0 0 0 0 0 0 0 0 0 0 0 0 0 0 0 0 0 0 0 0 0 0 0 0 0 0 0 0 0 0 0 0 0 0 0 0 0\n",
            " 0 0 0 0 0 0 0 0 0 0 0 0 0 1 1 1 1 1 1 1 1 1 1 1 1 1 1 1 1 1 1 1 1 1 1 1 1\n",
            " 1 1 1 1 1 1 1 1 1 1 1 1 1 1 1 1 1 1 1 1 1 1 1 1 1 1 2 2 2 2 2 2 2 2 2 2 2\n",
            " 2 2 2 2 2 2 2 2 2 2 2 2 2 2 2 2 2 2 2 2 2 2 2 2 2 2 2 2 2 2 2 2 2 2 2 2 2\n",
            " 2 2]\n",
            "['setosa' 'versicolor' 'virginica']\n"
          ]
        }
      ],
      "source": [
        "data.head()\n",
        "print(target)\n",
        "print(target_names)"
      ]
    },
    {
      "cell_type": "code",
      "execution_count": 58,
      "metadata": {
        "colab": {
          "base_uri": "https://localhost:8080/"
        },
        "id": "YXQIlKTXonpH",
        "outputId": "afb596f4-3311-4a32-e905-25be21b2dfd7"
      },
      "outputs": [
        {
          "data": {
            "text/plain": [
              "PCA(n_components=2)"
            ]
          },
          "execution_count": 58,
          "metadata": {},
          "output_type": "execute_result"
        }
      ],
      "source": [
        "model_3 = PCA(n_components=2)\n",
        "model_3.fit(data)"
      ]
    },
    {
      "cell_type": "code",
      "execution_count": 70,
      "metadata": {},
      "outputs": [],
      "source": [
        "data_3 = pd.DataFrame(data_3)"
      ]
    },
    {
      "cell_type": "code",
      "execution_count": 72,
      "metadata": {
        "id": "dyqF7w84pTME"
      },
      "outputs": [
        {
          "name": "stdout",
          "output_type": "stream",
          "text": [
            "(150,) (150,)\n",
            "(150,) (150,)\n"
          ]
        }
      ],
      "source": [
        "from scipy import stats\n",
        "corr_1 = np.zeros(2)\n",
        "corr_2 = np.zeros(2)\n",
        "corr_3 = np.zeros(2)\n",
        "corr_4 = np.zeros(2)\n",
        "for i in range(2):\n",
        "  print(data[0][:].shape, data_3[i][:].shape)\n",
        "  corr_1[i] = stats.pearsonr(data[0][:], data_3[i][:])[0]\n",
        "for i in range(2):\n",
        "  corr_2[i] = stats.pearsonr(data[1][:], data_3[i][:])[0]\n",
        "for i in range(2):\n",
        "  corr_3[i] = stats.pearsonr(data[2][:], data_3[i][:])[0]\n",
        "for i in range(2):\n",
        "  corr_4[i] = stats.pearsonr(data[3][:], data_3[i][:])[0]"
      ]
    },
    {
      "cell_type": "code",
      "execution_count": 73,
      "metadata": {
        "colab": {
          "base_uri": "https://localhost:8080/"
        },
        "id": "Swn3PE2SpTa2",
        "outputId": "c5909456-9ba4-47bd-e937-df5f8d8319b9"
      },
      "outputs": [
        {
          "name": "stdout",
          "output_type": "stream",
          "text": [
            "0.8974017619582985 0.3906044128884928\n",
            "-0.39874847245570016 0.8252287092319979\n",
            "0.997873942241311 -0.04838059968989157\n",
            "0.9665475167033069 -0.04878160292939497\n"
          ]
        }
      ],
      "source": [
        "corr1_1 = stats.pearsonr(data[0][:], data_3[0][:])[0]\n",
        "corr1_2 = stats.pearsonr(data[1][:], data_3[0][:])[0]\n",
        "corr1_3 = stats.pearsonr(data[2][:], data_3[0][:])[0]\n",
        "corr1_4 = stats.pearsonr(data[3][:], data_3[0][:])[0]\n",
        "corr2_1 = stats.pearsonr(data[0][:], data_3[1][:])[0]\n",
        "corr2_2 = stats.pearsonr(data[1][:], data_3[1][:])[0]\n",
        "corr2_3 = stats.pearsonr(data[2][:], data_3[1][:])[0]\n",
        "corr2_4 = stats.pearsonr(data[3][:], data_3[1][:])[0]\n",
        "print(corr1_1, corr2_1)\n",
        "print(corr1_2, corr2_2)\n",
        "print(corr1_3, corr2_3)\n",
        "print(corr1_4, corr2_4)"
      ]
    },
    {
      "cell_type": "code",
      "execution_count": 74,
      "metadata": {
        "colab": {
          "base_uri": "https://localhost:8080/"
        },
        "id": "u5EEgt4WtX7h",
        "outputId": "90c47428-d9d2-4f0f-b92f-b704fd780916"
      },
      "outputs": [
        {
          "name": "stdout",
          "output_type": "stream",
          "text": [
            "[0.89740176 0.39060441]\n",
            "[-0.39874847  0.82522871]\n",
            "[ 0.99787394 -0.0483806 ]\n",
            "[ 0.96654752 -0.0487816 ]\n"
          ]
        }
      ],
      "source": [
        "print(corr_1)\n",
        "print(corr_2)\n",
        "print(corr_3)\n",
        "print(corr_4)"
      ]
    },
    {
      "cell_type": "code",
      "execution_count": 80,
      "metadata": {},
      "outputs": [],
      "source": [
        "data_3 = data_3.to_numpy()"
      ]
    },
    {
      "cell_type": "code",
      "execution_count": 81,
      "metadata": {
        "colab": {
          "base_uri": "https://localhost:8080/",
          "height": 269
        },
        "id": "Cggs-T0kuvDP",
        "outputId": "68546bfb-e249-45ea-c7ba-ef7660df5593"
      },
      "outputs": [
        {
          "data": {
            "image/png": "[encoded data removed]",
            "text/plain": [
              "<Figure size 432x288 with 1 Axes>"
            ]
          },
          "metadata": {
            "needs_background": "light"
          },
          "output_type": "display_data"
        }
      ],
      "source": [
        "plot_iris(data_3, target, target_names)"
      ]
    },
    {
      "cell_type": "markdown",
      "metadata": {
        "id": "1964_coJe59g"
      },
      "source": [
        "## Интерпретация главных компонент с использованием данных\n",
        "\n",
        "Рассмотрим теперь величину, которую можно проинтерпретировать, как квадрат косинуса угла между объектом выборки и главной компонентой:\n",
        "\n",
        "$$ cos^2_{ik} = \\frac{f_{ik}^2}{\\sum_{\\ell=1}^d f_{i\\ell}^2} $$\n",
        "\n",
        "где\n",
        "- i -- номер объекта\n",
        "- k -- номер главной компоненты\n",
        "- $f_{ik}$ -- модуль центрированной проекции объекта на компоненту\n",
        "\n",
        "Очевидно, что\n",
        "\n",
        "$$ \\sum_{k=1}^d cos^2_{ik} = 1 $$\n",
        "\n",
        "Это значит, что для каждого объекта мы в виде данной величины получили веса, пропорциональные вкладу, которую вносит данный объект в дисперсию каждой компоненты. Чем больше вклад, тем более значим объект для описания конкретной главной компоненты."
      ]
    },
    {
      "cell_type": "markdown",
      "metadata": {
        "id": "OLHTViage59h"
      },
      "source": [
        "## Задание 4. Анализ главных компонент при помощи вкладов в их дисперсию отдельных объектов\n",
        "\n",
        "1. Загрузите датасет лиц Olivetti Faces и обучите на нём модель RandomizedPCA (используется при большом количестве признаков и работает быстрее, чем обычный PCA). Получите проекции признаков на 10 первых главных компонент.\n",
        "2. Посчитайте для каждого объекта его относительный вклад в дисперсию каждой из 10 компонент, используя формулу из предыдущего раздела (d = 10).\n",
        "3. Для каждой компоненты найдите и визуализируйте лицо, которое вносит наибольший относительный вклад в неё. Для визуализации используйте функцию\n",
        "\n",
        "        plt.imshow(image.reshape(image_shape))\n",
        "        \n",
        "4. Передайте в функцию write_answer_4 список номеров лиц с наибольшим относительным вкладом в дисперсию каждой из компонент, список начинается с 0."
      ]
    },
    {
      "cell_type": "code",
      "execution_count": 82,
      "metadata": {
        "id": "hK_99gKpe59i",
        "scrolled": true
      },
      "outputs": [
        {
          "name": "stdout",
          "output_type": "stream",
          "text": [
            "downloading Olivetti faces from https://ndownloader.figshare.com/files/5976027 to /Users/tynochka/scikit_learn_data\n"
          ]
        }
      ],
      "source": [
        "from sklearn.datasets import fetch_olivetti_faces\n",
        "from sklearn.decomposition import PCA\n",
        "\n",
        "def write_answer_4(list_pc):\n",
        "    with open(\"pca_answer4.txt\", \"w\") as fout:\n",
        "        fout.write(\" \".join([str(num) for num in list_pc]))\n",
        "\n",
        "data = fetch_olivetti_faces(shuffle=True, random_state=0).data\n",
        "image_shape = (64, 64)"
      ]
    },
    {
      "cell_type": "code",
      "execution_count": 83,
      "metadata": {
        "colab": {
          "base_uri": "https://localhost:8080/"
        },
        "id": "X0tuoLkLs8k3",
        "outputId": "98a45c6d-bd43-4c29-80d2-460deec366db"
      },
      "outputs": [
        {
          "data": {
            "text/plain": [
              "array([[0.6694215 , 0.6363636 , 0.6487603 , ..., 0.08677686, 0.08264463,\n",
              "        0.07438017],\n",
              "       [0.76859504, 0.75619835, 0.74380165, ..., 0.48347107, 0.6280992 ,\n",
              "        0.6528926 ],\n",
              "       [0.37190083, 0.34710744, 0.3677686 , ..., 0.7066116 , 0.6818182 ,\n",
              "        0.5495868 ],\n",
              "       ...,\n",
              "       [0.55785125, 0.60330576, 0.6570248 , ..., 0.17768595, 0.20661157,\n",
              "        0.19421488],\n",
              "       [0.5206612 , 0.5206612 , 0.53305787, ..., 0.46694216, 0.43801653,\n",
              "        0.43801653],\n",
              "       [0.3966942 , 0.3677686 , 0.3429752 , ..., 0.37190083, 0.26859504,\n",
              "        0.29752067]], dtype=float32)"
            ]
          },
          "execution_count": 83,
          "metadata": {},
          "output_type": "execute_result"
        }
      ],
      "source": [
        "data"
      ]
    },
    {
      "cell_type": "code",
      "execution_count": 84,
      "metadata": {
        "colab": {
          "base_uri": "https://localhost:8080/"
        },
        "id": "tyZqn3zrqfuM",
        "outputId": "b16bbdfd-7309-4ee0-ac46-1fcdc585d898"
      },
      "outputs": [
        {
          "data": {
            "text/plain": [
              "PCA(n_components=10)"
            ]
          },
          "execution_count": 84,
          "metadata": {},
          "output_type": "execute_result"
        }
      ],
      "source": [
        "model_4 = PCA(n_components = 10)\n",
        "model_4.fit(data)"
      ]
    },
    {
      "cell_type": "code",
      "execution_count": 85,
      "metadata": {
        "id": "S02e6Dc3tFYJ"
      },
      "outputs": [],
      "source": [
        "data_4 = model_4.transform(data)"
      ]
    },
    {
      "cell_type": "code",
      "execution_count": 87,
      "metadata": {
        "colab": {
          "base_uri": "https://localhost:8080/"
        },
        "id": "vSnR-sUnul5X",
        "outputId": "4455a3cc-2c8f-443c-dbfd-495c4820cf8c"
      },
      "outputs": [
        {
          "data": {
            "text/plain": [
              "array([18.840174 , 11.07176  ,  6.304619 ,  3.9545865,  2.8560395,\n",
              "        2.497708 ,  1.9200622,  1.6111591,  1.5492228,  1.3229501],\n",
              "      dtype=float32)"
            ]
          },
          "execution_count": 87,
          "metadata": {},
          "output_type": "execute_result"
        }
      ],
      "source": [
        "model_4.explained_variance_"
      ]
    },
    {
      "cell_type": "code",
      "execution_count": 89,
      "metadata": {
        "id": "1Qv-mucoumJI"
      },
      "outputs": [],
      "source": [
        "data_t = data_4 - np.mean(data_4, axis = 0)\n",
        "data_tt = data_4 - np.mean(data_4, axis = 0)"
      ]
    },
    {
      "cell_type": "code",
      "execution_count": 90,
      "metadata": {
        "id": "yCF03jCHumYk"
      },
      "outputs": [],
      "source": [
        "data_t = np.power(data_t, 2)\n",
        "data_t = data_t / np.sum(data_t, axis = 1).reshape(400, 1)"
      ]
    },
    {
      "cell_type": "code",
      "execution_count": 91,
      "metadata": {
        "colab": {
          "base_uri": "https://localhost:8080/",
          "height": 268
        },
        "id": "8UdGl_PQy-3e",
        "outputId": "621a9f40-e94e-4dad-80fe-c3d296df4173"
      },
      "outputs": [
        {
          "data": {
            "image/png": "[encoded data removed]",
            "text/plain": [
              "<Figure size 432x288 with 1 Axes>"
            ]
          },
          "metadata": {
            "needs_background": "light"
          },
          "output_type": "display_data"
        }
      ],
      "source": [
        "# %pylab\n",
        "# from string import digits\n",
        "%matplotlib inline\n",
        "plt.imshow(data[19].reshape(image_shape))\n",
        "plt.show()"
      ]
    },
    {
      "cell_type": "code",
      "execution_count": 92,
      "metadata": {
        "id": "Wq20Zr-H4Ist"
      },
      "outputs": [],
      "source": [
        "indexes = np.argmax(data_t, axis = 0)\n",
        "write_answer_4(indexes)"
      ]
    },
    {
      "cell_type": "markdown",
      "metadata": {
        "id": "-bzD-MrOe59i"
      },
      "source": [
        "## Анализ основных недостатков метода главных компонент\n",
        "\n",
        "Рассмотренные выше задачи являются, безусловно, модельными, потому что данные для них были сгенерированы в соответствии с предположениями метода главных компонент. На практике эти предположения, естественно, выполняются далеко не всегда. Рассмотрим типичные ошибки PCA, которые следует иметь в виду перед тем, как его применять."
      ]
    },
    {
      "cell_type": "markdown",
      "metadata": {
        "id": "DEwS1TWte59j"
      },
      "source": [
        "### Направления с максимальной дисперсией в данных неортогональны\n",
        "\n",
        "Рассмотрим случай выборки, которая сгенерирована из двух вытянутых нормальных распределений:"
      ]
    },
    {
      "cell_type": "code",
      "execution_count": 94,
      "metadata": {
        "colab": {
          "base_uri": "https://localhost:8080/",
          "height": 299
        },
        "id": "yjaMBzXje59j",
        "outputId": "3759c838-e70b-44c9-b5c1-0c9f7e234d60"
      },
      "outputs": [
        {
          "name": "stderr",
          "output_type": "stream",
          "text": [
            "<ipython-input-94-14e8e9ec00d6>:7: RuntimeWarning: covariance is not positive-semidefinite.\n",
            "  np.random.multivariate_normal(mu, C2, size=50)])\n"
          ]
        },
        {
          "data": {
            "image/png": "[encoded data removed]",
            "text/plain": [
              "<Figure size 432x288 with 1 Axes>"
            ]
          },
          "metadata": {
            "needs_background": "light"
          },
          "output_type": "display_data"
        }
      ],
      "source": [
        "C1 = np.array([[10,0],[0,0.5]])\n",
        "phi = np.pi/3\n",
        "C2 = np.dot(C1, np.array([[np.cos(phi), np.sin(phi)],\n",
        "                          [-np.sin(phi),np.cos(phi)]]))\n",
        "\n",
        "data = np.vstack([np.random.multivariate_normal(mu, C1, size=50),\n",
        "                  np.random.multivariate_normal(mu, C2, size=50)])\n",
        "plt.scatter(data[:,0], data[:,1])\n",
        "# построим истинные интересующие нас компоненты\n",
        "plt.plot(data[:,0], np.zeros(data[:,0].size), color=\"g\")\n",
        "plt.plot(data[:,0], 3**0.5*data[:,0], color=\"g\")\n",
        "# обучим модель pca и построим главные компоненты\n",
        "model = PCA(n_components=2)\n",
        "model.fit(data)\n",
        "plot_principal_components(data, model, scatter=False, legend=False)\n",
        "c_patch = mpatches.Patch(color='c', label='Principal components')\n",
        "plt.legend(handles=[g_patch, c_patch])\n",
        "plt.draw()"
      ]
    },
    {
      "cell_type": "markdown",
      "metadata": {
        "id": "nxA9e6J8e59j"
      },
      "source": [
        "В чём проблема, почему pca здесь работает плохо? Ответ прост: интересующие нас компоненты в данных коррелированны между собой (или неортогональны, в зависимости от того, какой терминологией пользоваться). Для поиска подобных преобразований требуются более сложные методы, которые уже выходят за рамки метода главных компонент.\n",
        "\n",
        "Для интересующихся: то, что можно применить непосредственно к выходу метода главных компонент, для получения подобных неортогональных преобразований, называется методами ротации. Почитать о них можно в связи с другим методом уменьшения размерности, который называется Factor Analysis (FA), но ничего не мешает их применять и к главным компонентам."
      ]
    },
    {
      "cell_type": "markdown",
      "metadata": {
        "id": "7ZpNBYPOe59j"
      },
      "source": [
        "### Интересное направление в данных не совпадает с направлением максимальной дисперсии\n",
        "\n",
        "Рассмотрим пример, когда дисперсии не отражают интересующих нас направлений в данных:"
      ]
    },
    {
      "cell_type": "code",
      "execution_count": 95,
      "metadata": {
        "colab": {
          "base_uri": "https://localhost:8080/",
          "height": 265
        },
        "id": "ah9hMOWKe59k",
        "outputId": "171596b7-65f0-4d89-e1b5-381677274c32"
      },
      "outputs": [
        {
          "data": {
            "image/png": "[encoded data removed]",
            "text/plain": [
              "<Figure size 432x288 with 1 Axes>"
            ]
          },
          "metadata": {
            "needs_background": "light"
          },
          "output_type": "display_data"
        }
      ],
      "source": [
        "C = np.array([[0.5,0],[0,10]])\n",
        "mu1 = np.array([-2,0])\n",
        "mu2 = np.array([2,0])\n",
        "\n",
        "data = np.vstack([np.random.multivariate_normal(mu1, C, size=50),\n",
        "                  np.random.multivariate_normal(mu2, C, size=50)])\n",
        "plt.scatter(data[:,0], data[:,1])\n",
        "# обучим модель pca и построим главные компоненты\n",
        "model = PCA(n_components=2)\n",
        "model.fit(data)\n",
        "plot_principal_components(data, model)\n",
        "plt.draw()"
      ]
    },
    {
      "cell_type": "markdown",
      "metadata": {
        "id": "GMnQ7NX-e59k"
      },
      "source": [
        "Очевидно, что в данном случае метод главных компонент будет считать вертикальную компоненту более значимой для описания набора данных, чем горизонтальную. \n",
        "\n",
        "Но, например, в случае, когда данные из левого и правого кластера относятся к разным классам, для их линейной разделимости вертикальная компонента является шумовой. Несмотря на это, её метод главных компонент никогда шумовой не признает, и есть вероятность, что отбор признаков с его помощью выкинет из ваших данных значимые для решаемой вами задачи компоненты просто потому, что вдоль них значения имеют низкую дисперсию.\n",
        "\n",
        "Справляться с такими ситуациями могут некоторые другие методы уменьшения размерности данных, например, метод независимых компонент (Independent Component Analysis, ICA)."
      ]
    }
  ],
  "metadata": {
    "colab": {
      "collapsed_sections": [
        "imWcUr1_e59Z",
        "8DnWGx7we59a",
        "41EqfWMOe59c",
        "yJz3TM65e59d",
        "1YEG-5y3e59e",
        "umEemz8le59f",
        "1964_coJe59g",
        "OLHTViage59h",
        "DEwS1TWte59j"
      ],
      "name": "c3w2.ipynb",
      "provenance": []
    },
    "interpreter": {
      "hash": "3067ead486e059ec00ffe7555bdb889e6e264a24dc711bf108106cc7baee8d5d"
    },
    "kernelspec": {
      "display_name": "Python 3.8.8 64-bit ('base': conda)",
      "name": "python3"
    },
    "language_info": {
      "codemirror_mode": {
        "name": "ipython",
        "version": 3
      },
      "file_extension": ".py",
      "mimetype": "text/x-python",
      "name": "python",
      "nbconvert_exporter": "python",
      "pygments_lexer": "ipython3",
      "version": "3.8.8"
    }
  },
  "nbformat": 4,
  "nbformat_minor": 0
}
